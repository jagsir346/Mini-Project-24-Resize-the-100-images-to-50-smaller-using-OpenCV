{
  "nbformat": 4,
  "nbformat_minor": 0,
  "metadata": {
    "colab": {
      "provenance": [],
      "authorship_tag": "ABX9TyPxLbTGDOEHITDcghomMQtO",
      "include_colab_link": true
    },
    "kernelspec": {
      "name": "python3",
      "display_name": "Python 3"
    },
    "language_info": {
      "name": "python"
    }
  },
  "cells": [
    {
      "cell_type": "markdown",
      "metadata": {
        "id": "view-in-github",
        "colab_type": "text"
      },
      "source": [
        "<a href=\"https://colab.research.google.com/github/jagsir346/Mini-Project-24-Resize-the-100-images-to-50-smaller-using-OpenCV/blob/main/Mini_Project_24_Resize_the_100_images_to_50_(smaller)_using_OpenCV.ipynb\" target=\"_parent\"><img src=\"https://colab.research.google.com/assets/colab-badge.svg\" alt=\"Open In Colab\"/></a>"
      ]
    },
    {
      "cell_type": "code",
      "source": [
        "# 📌 Mini Project-24: Resize 100 Images to 50% using OpenCV\n",
        "\n",
        "# Step 1: Install OpenCV\n",
        "!pip install opencv-python --quiet\n",
        "\n",
        "# Step 2: Import necessary modules\n",
        "import cv2\n",
        "import os\n",
        "import zipfile\n",
        "from google.colab import files\n",
        "from tqdm import tqdm\n",
        "\n",
        "# Step 3: Upload ZIP file of images\n",
        "print(\"📤 Upload a ZIP file containing 100 images...\")\n",
        "\n",
        "zip_path = \"Supercar.zip\"\n",
        "\n",
        "extract_folder = \"project/input_images\"\n",
        "os.makedirs(extract_folder, exist_ok=True)\n",
        "# Step 4: Extract ZIP\n",
        "\n",
        "with zipfile.ZipFile(zip_path, 'r') as zip_ref:\n",
        "    zip_ref.extractall(extract_folder)\n",
        "\n",
        "# Step 5: Create output folder\n",
        "output_folder = \"project/output_images\"\n",
        "os.makedirs(output_folder, exist_ok=True)\n",
        "\n",
        "# Step 6: Resize images to 50%\n",
        "image_files = [f for f in os.listdir(extract_folder) if f.lower().endswith(('.jpg', '.png', '.jpeg'))]\n",
        "\n",
        "print(f\"🎞 Resizing {len(image_files)} images to 50%...\")\n",
        "\n",
        "for img_name in tqdm(image_files):\n",
        "    input_path = os.path.join(extract_folder, img_name)\n",
        "    output_path = os.path.join(output_folder, img_name)\n",
        "\n",
        "    img = cv2.imread(input_path)\n",
        "    if img is None:\n",
        "        continue\n",
        "\n",
        "    height, width = img.shape[:2]\n",
        "    resized_img = cv2.resize(img, (width // 2, height // 2))\n",
        "\n",
        "    cv2.imwrite(output_path, resized_img)\n",
        "\n",
        "print(\"✅ Resizing complete!\")\n",
        "\n",
        "# Step 7: Zip resized images\n",
        "output_zip = \"resized_images.zip\"\n",
        "with zipfile.ZipFile(output_zip, 'w') as zipf:\n",
        "    for root, _, files_in_dir in os.walk(output_folder):\n",
        "        for file in files_in_dir:\n",
        "            full_path = os.path.join(root, file)\n",
        "            zipf.write(full_path, arcname=os.path.relpath(full_path, output_folder))\n",
        "\n",
        "print(\"📦 Zipped all resized images!\")\n",
        "\n",
        "# Step 8: Download ZIP\n",
        "from google.colab import files  # Ensure it's not overwritten\n",
        "files.download(output_zip)\n"
      ],
      "metadata": {
        "colab": {
          "base_uri": "https://localhost:8080/",
          "height": 104
        },
        "id": "849-IBT95T5g",
        "outputId": "7058c225-a955-42e0-fc62-e31fa34fec06"
      },
      "execution_count": 3,
      "outputs": [
        {
          "output_type": "stream",
          "name": "stdout",
          "text": [
            "📤 Upload a ZIP file containing 100 images...\n",
            "🎞 Resizing 56 images to 50%...\n"
          ]
        },
        {
          "output_type": "stream",
          "name": "stderr",
          "text": [
            "100%|██████████| 56/56 [00:02<00:00, 21.75it/s]"
          ]
        },
        {
          "output_type": "stream",
          "name": "stdout",
          "text": [
            "✅ Resizing complete!\n",
            "📦 Zipped all resized images!\n"
          ]
        },
        {
          "output_type": "stream",
          "name": "stderr",
          "text": [
            "\n"
          ]
        },
        {
          "output_type": "display_data",
          "data": {
            "text/plain": [
              "<IPython.core.display.Javascript object>"
            ],
            "application/javascript": [
              "\n",
              "    async function download(id, filename, size) {\n",
              "      if (!google.colab.kernel.accessAllowed) {\n",
              "        return;\n",
              "      }\n",
              "      const div = document.createElement('div');\n",
              "      const label = document.createElement('label');\n",
              "      label.textContent = `Downloading \"${filename}\": `;\n",
              "      div.appendChild(label);\n",
              "      const progress = document.createElement('progress');\n",
              "      progress.max = size;\n",
              "      div.appendChild(progress);\n",
              "      document.body.appendChild(div);\n",
              "\n",
              "      const buffers = [];\n",
              "      let downloaded = 0;\n",
              "\n",
              "      const channel = await google.colab.kernel.comms.open(id);\n",
              "      // Send a message to notify the kernel that we're ready.\n",
              "      channel.send({})\n",
              "\n",
              "      for await (const message of channel.messages) {\n",
              "        // Send a message to notify the kernel that we're ready.\n",
              "        channel.send({})\n",
              "        if (message.buffers) {\n",
              "          for (const buffer of message.buffers) {\n",
              "            buffers.push(buffer);\n",
              "            downloaded += buffer.byteLength;\n",
              "            progress.value = downloaded;\n",
              "          }\n",
              "        }\n",
              "      }\n",
              "      const blob = new Blob(buffers, {type: 'application/binary'});\n",
              "      const a = document.createElement('a');\n",
              "      a.href = window.URL.createObjectURL(blob);\n",
              "      a.download = filename;\n",
              "      div.appendChild(a);\n",
              "      a.click();\n",
              "      div.remove();\n",
              "    }\n",
              "  "
            ]
          },
          "metadata": {}
        },
        {
          "output_type": "display_data",
          "data": {
            "text/plain": [
              "<IPython.core.display.Javascript object>"
            ],
            "application/javascript": [
              "download(\"download_a9b541c1-d228-47ce-a245-70b92e53adaa\", \"resized_images.zip\", 15026649)"
            ]
          },
          "metadata": {}
        }
      ]
    }
  ]
}